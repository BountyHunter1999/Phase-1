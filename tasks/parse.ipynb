{
 "cells": [
  {
   "cell_type": "code",
   "execution_count": 7,
   "metadata": {},
   "outputs": [],
   "source": [
    "with open('data.txt', 'r') as f:\n",
    "    # d = f.read()\n",
    "    dl = f.readlines()"
   ]
  },
  {
   "cell_type": "code",
   "execution_count": 8,
   "metadata": {},
   "outputs": [
    {
     "data": {
      "text/plain": [
       "'State    Postal\\nAbbr.    FIPS\\nCode    State    Postal\\nAbbr.    FIPS\\nCode\\nAlabama    AL    01    Nebraska    NE    31\\nAlaska    AK    02    Nevada    NV    32\\nArizona    AZ    04    New Hampshire    NH    33\\nArkansas    AR    05    New Jersey    NJ    34\\nCalifornia    CA    06    New Mexico    NM    35\\nColorado    CO    08    New York    NY    36\\nConnecticut    CT    09    North Carolina    NC    37\\nDelaware    DE    10    North Dakota    ND    38\\nDistrict of Columbia    DC    11    Ohio    OH    39\\nFlorida    FL    12    Oklahoma    OK    40\\nGeorgia    GA    13    Oregon    OR    41\\nHawaii    HI    15    Pennsylvania    PA    42\\nIdaho    ID    16    Puerto Rico    PR    72\\nIllinois    IL    17    Rhode Island    RI    44\\nIndiana    IN    18    South Carolina    SC    45\\nIowa    IA    19    South Dakota    SD    46\\nKansas    KS    20    Tennessee    TN    47\\nKentucky    KY    21    Texas    TX    48\\nLouisiana    LA    22    Utah    UT    49\\nMaine    ME    23    Vermont    VT    50\\nMaryland    MD    24    Virginia    VA    51\\nMassachusetts    MA    25    Virgin Islands    VI    78\\nMichigan    MI    26    Washington    WA    53\\nMinnesota    MN    27    West Virginia    WV    54\\nMississippi    MS    28    Wisconsin    WI    55\\nMissouri    MO    29    Wyoming    WY    56\\nMontana    MT    30'"
      ]
     },
     "execution_count": 8,
     "metadata": {},
     "output_type": "execute_result"
    }
   ],
   "source": [
    "d"
   ]
  },
  {
   "cell_type": "code",
   "execution_count": 11,
   "metadata": {},
   "outputs": [
    {
     "data": {
      "text/plain": [
       "['Alabama    AL    01    Nebraska    NE    31\\n',\n",
       " 'Alaska    AK    02    Nevada    NV    32\\n',\n",
       " 'Arizona    AZ    04    New Hampshire    NH    33\\n',\n",
       " 'Arkansas    AR    05    New Jersey    NJ    34\\n',\n",
       " 'California    CA    06    New Mexico    NM    35\\n',\n",
       " 'Colorado    CO    08    New York    NY    36\\n',\n",
       " 'Connecticut    CT    09    North Carolina    NC    37\\n',\n",
       " 'Delaware    DE    10    North Dakota    ND    38\\n',\n",
       " 'District of Columbia    DC    11    Ohio    OH    39\\n',\n",
       " 'Florida    FL    12    Oklahoma    OK    40\\n',\n",
       " 'Georgia    GA    13    Oregon    OR    41\\n',\n",
       " 'Hawaii    HI    15    Pennsylvania    PA    42\\n',\n",
       " 'Idaho    ID    16    Puerto Rico    PR    72\\n',\n",
       " 'Illinois    IL    17    Rhode Island    RI    44\\n',\n",
       " 'Indiana    IN    18    South Carolina    SC    45\\n',\n",
       " 'Iowa    IA    19    South Dakota    SD    46\\n',\n",
       " 'Kansas    KS    20    Tennessee    TN    47\\n',\n",
       " 'Kentucky    KY    21    Texas    TX    48\\n',\n",
       " 'Louisiana    LA    22    Utah    UT    49\\n',\n",
       " 'Maine    ME    23    Vermont    VT    50\\n',\n",
       " 'Maryland    MD    24    Virginia    VA    51\\n',\n",
       " 'Massachusetts    MA    25    Virgin Islands    VI    78\\n',\n",
       " 'Michigan    MI    26    Washington    WA    53\\n',\n",
       " 'Minnesota    MN    27    West Virginia    WV    54\\n',\n",
       " 'Mississippi    MS    28    Wisconsin    WI    55\\n',\n",
       " 'Missouri    MO    29    Wyoming    WY    56\\n',\n",
       " 'Montana    MT    30']"
      ]
     },
     "execution_count": 11,
     "metadata": {},
     "output_type": "execute_result"
    }
   ],
   "source": [
    "data= dl[5:]\n",
    "data"
   ]
  },
  {
   "cell_type": "code",
   "execution_count": 17,
   "metadata": {},
   "outputs": [
    {
     "data": {
      "text/plain": [
       "['Alabama', 'AL', '01', 'Nebraska', 'NE', '31']"
      ]
     },
     "execution_count": 17,
     "metadata": {},
     "output_type": "execute_result"
    }
   ],
   "source": [
    "data[0].strip().split()"
   ]
  },
  {
   "cell_type": "code",
   "execution_count": 28,
   "metadata": {},
   "outputs": [],
   "source": [
    "raw = []\n",
    "for d in data:\n",
    "    raw += (d.strip().split())\n",
    "    "
   ]
  },
  {
   "cell_type": "code",
   "execution_count": 30,
   "metadata": {},
   "outputs": [
    {
     "data": {
      "text/plain": [
       "['Alabama',\n",
       " 'AL',\n",
       " '01',\n",
       " 'Nebraska',\n",
       " 'NE',\n",
       " '31',\n",
       " 'Alaska',\n",
       " 'AK',\n",
       " '02',\n",
       " 'Nevada',\n",
       " 'NV',\n",
       " '32',\n",
       " 'Arizona',\n",
       " 'AZ',\n",
       " '04']"
      ]
     },
     "execution_count": 30,
     "metadata": {},
     "output_type": "execute_result"
    }
   ],
   "source": [
    "raw[:15]"
   ]
  },
  {
   "cell_type": "code",
   "execution_count": 31,
   "metadata": {},
   "outputs": [
    {
     "data": {
      "text/plain": [
       "[['Alabama', 'AL', '01'],\n",
       " ['Nebraska', 'NE', '31'],\n",
       " ['Alaska', 'AK', '02'],\n",
       " ['Nevada', 'NV', '32'],\n",
       " ['Arizona', 'AZ', '04'],\n",
       " ['New', 'Hampshire', 'NH'],\n",
       " ['33', 'Arkansas', 'AR'],\n",
       " ['05', 'New', 'Jersey'],\n",
       " ['NJ', '34', 'California'],\n",
       " ['CA', '06', 'New'],\n",
       " ['Mexico', 'NM', '35'],\n",
       " ['Colorado', 'CO', '08'],\n",
       " ['New', 'York', 'NY'],\n",
       " ['36', 'Connecticut', 'CT'],\n",
       " ['09', 'North', 'Carolina'],\n",
       " ['NC', '37', 'Delaware'],\n",
       " ['DE', '10', 'North'],\n",
       " ['Dakota', 'ND', '38'],\n",
       " ['District', 'of', 'Columbia'],\n",
       " ['DC', '11', 'Ohio'],\n",
       " ['OH', '39', 'Florida'],\n",
       " ['FL', '12', 'Oklahoma'],\n",
       " ['OK', '40', 'Georgia'],\n",
       " ['GA', '13', 'Oregon'],\n",
       " ['OR', '41', 'Hawaii'],\n",
       " ['HI', '15', 'Pennsylvania'],\n",
       " ['PA', '42', 'Idaho'],\n",
       " ['ID', '16', 'Puerto'],\n",
       " ['Rico', 'PR', '72'],\n",
       " ['Illinois', 'IL', '17'],\n",
       " ['Rhode', 'Island', 'RI'],\n",
       " ['44', 'Indiana', 'IN'],\n",
       " ['18', 'South', 'Carolina'],\n",
       " ['SC', '45', 'Iowa'],\n",
       " ['IA', '19', 'South'],\n",
       " ['Dakota', 'SD', '46'],\n",
       " ['Kansas', 'KS', '20'],\n",
       " ['Tennessee', 'TN', '47'],\n",
       " ['Kentucky', 'KY', '21'],\n",
       " ['Texas', 'TX', '48'],\n",
       " ['Louisiana', 'LA', '22'],\n",
       " ['Utah', 'UT', '49'],\n",
       " ['Maine', 'ME', '23'],\n",
       " ['Vermont', 'VT', '50'],\n",
       " ['Maryland', 'MD', '24'],\n",
       " ['Virginia', 'VA', '51'],\n",
       " ['Massachusetts', 'MA', '25'],\n",
       " ['Virgin', 'Islands', 'VI'],\n",
       " ['78', 'Michigan', 'MI'],\n",
       " ['26', 'Washington', 'WA'],\n",
       " ['53', 'Minnesota', 'MN'],\n",
       " ['27', 'West', 'Virginia'],\n",
       " ['WV', '54', 'Mississippi'],\n",
       " ['MS', '28', 'Wisconsin'],\n",
       " ['WI', '55', 'Missouri'],\n",
       " ['MO', '29', 'Wyoming'],\n",
       " ['WY', '56', 'Montana'],\n",
       " ['MT', '30']]"
      ]
     },
     "execution_count": 31,
     "metadata": {},
     "output_type": "execute_result"
    }
   ],
   "source": [
    "def chunks(lst, n=3):\n",
    "    for i in range(0, len(lst), n):\n",
    "        yield lst[i: i+n]\n",
    "\n",
    "list(chunks(raw))"
   ]
  },
  {
   "cell_type": "code",
   "execution_count": null,
   "metadata": {},
   "outputs": [],
   "source": []
  }
 ],
 "metadata": {
  "kernelspec": {
   "display_name": "Python 3.10.0 64-bit ('3.10.0')",
   "language": "python",
   "name": "python3"
  },
  "language_info": {
   "codemirror_mode": {
    "name": "ipython",
    "version": 3
   },
   "file_extension": ".py",
   "mimetype": "text/x-python",
   "name": "python",
   "nbconvert_exporter": "python",
   "pygments_lexer": "ipython3",
   "version": "3.10.0"
  },
  "orig_nbformat": 4,
  "vscode": {
   "interpreter": {
    "hash": "585d3d701928e525ed79dca34d4393c3131ec31a3efcd53a9d7b420c5b9fa22a"
   }
  }
 },
 "nbformat": 4,
 "nbformat_minor": 2
}
