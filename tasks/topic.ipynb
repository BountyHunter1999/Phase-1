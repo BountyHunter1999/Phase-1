{
 "cells": [
  {
   "cell_type": "code",
   "execution_count": 2,
   "metadata": {},
   "outputs": [],
   "source": [
    "import csv"
   ]
  },
  {
   "cell_type": "code",
   "execution_count": 3,
   "metadata": {},
   "outputs": [
    {
     "name": "stdout",
     "output_type": "stream",
     "text": [
      "n_grams.ipynb  parse_2.ipynb  parse.ipynb  parser.py  __pycache__  topic.ipynb\n"
     ]
    }
   ],
   "source": [
    "! ls "
   ]
  },
  {
   "cell_type": "code",
   "execution_count": 4,
   "metadata": {},
   "outputs": [],
   "source": [
    "notes = []\n",
    "with open(\"../data/3_govt_urls_state_only.csv\") as f:\n",
    "    next(f)\n",
    "    r = csv.reader(f)\n",
    "    for i in r:\n",
    "\n",
    "        notes.append(i[5])\n",
    "        # break\n"
   ]
  },
  {
   "cell_type": "code",
   "execution_count": 5,
   "metadata": {},
   "outputs": [
    {
     "data": {
      "text/plain": [
       "['Travel and Tourism Site for Vermont -- Note added 6/6/13 19:19',\n",
       " 'See historical snapshot at: http://web.archive.org/web/20080120044716/http://www.1800arkansas.com/  -- Note added 1/24/14 14:38']"
      ]
     },
     "execution_count": 5,
     "metadata": {},
     "output_type": "execute_result"
    }
   ],
   "source": [
    "notes[:2]"
   ]
  },
  {
   "cell_type": "code",
   "execution_count": 6,
   "metadata": {},
   "outputs": [
    {
     "name": "stderr",
     "output_type": "stream",
     "text": [
      "[nltk_data] Downloading package stopwords to ../data/nltk_data/...\n",
      "[nltk_data]   Package stopwords is already up-to-date!\n"
     ]
    }
   ],
   "source": [
    "from codes.n_grams import generate_N_grams"
   ]
  },
  {
   "cell_type": "code",
   "execution_count": 7,
   "metadata": {},
   "outputs": [],
   "source": [
    "tri_gram = []\n",
    "bi_gram = []\n",
    "for i in notes:\n",
    "    tri_gram += generate_N_grams(i, 3)\n",
    "    bi_gram += generate_N_grams(i, 2)\n",
    "    "
   ]
  },
  {
   "cell_type": "code",
   "execution_count": 9,
   "metadata": {},
   "outputs": [
    {
     "data": {
      "text/plain": [
       "['Travel Tourism Site',\n",
       " 'Tourism Site Vermont',\n",
       " 'Site Vermont --',\n",
       " 'Vermont -- Note',\n",
       " '-- Note added',\n",
       " 'Note added 6/6/13',\n",
       " 'added 6/6/13 19:19',\n",
       " 'See historical snapshot',\n",
       " 'historical snapshot at:',\n",
       " 'snapshot at: http://web.archive.org/web/20080120044716/http://www.1800arkansas.com/']"
      ]
     },
     "execution_count": 9,
     "metadata": {},
     "output_type": "execute_result"
    }
   ],
   "source": [
    "tri_gram[:10]"
   ]
  },
  {
   "cell_type": "code",
   "execution_count": 10,
   "metadata": {},
   "outputs": [
    {
     "data": {
      "text/plain": [
       "(7986, 8816)"
      ]
     },
     "execution_count": 10,
     "metadata": {},
     "output_type": "execute_result"
    }
   ],
   "source": [
    "len(tri_gram), len(bi_gram)"
   ]
  },
  {
   "cell_type": "code",
   "execution_count": 13,
   "metadata": {},
   "outputs": [],
   "source": [
    "tri_count = {}\n",
    "for i in tri_gram:\n",
    "    tri_count[i] = tri_count.get(i, 0)  + 1\n",
    "    \n",
    "bi_count = {}\n",
    "for i in bi_gram:\n",
    "    bi_count[i] = bi_count.get(i, 0)  + 1"
   ]
  },
  {
   "cell_type": "code",
   "execution_count": 14,
   "metadata": {},
   "outputs": [
    {
     "data": {
      "text/plain": [
       "(5331, 4780)"
      ]
     },
     "execution_count": 14,
     "metadata": {},
     "output_type": "execute_result"
    }
   ],
   "source": [
    "len(tri_count), len(bi_count)"
   ]
  },
  {
   "cell_type": "code",
   "execution_count": 17,
   "metadata": {},
   "outputs": [
    {
     "data": {
      "text/plain": [
       "[('Travel Tourism Site', 38), ('Tourism Site Vermont', 2)]"
      ]
     },
     "execution_count": 17,
     "metadata": {},
     "output_type": "execute_result"
    }
   ],
   "source": [
    "list(tri_count.items())[:2]"
   ]
  },
  {
   "cell_type": "code",
   "execution_count": 19,
   "metadata": {},
   "outputs": [
    {
     "data": {
      "text/plain": [
       "[('Travel Tourism', 48), ('Tourism Site', 38)]"
      ]
     },
     "execution_count": 19,
     "metadata": {},
     "output_type": "execute_result"
    }
   ],
   "source": [
    "list(bi_count.items())[:2]"
   ]
  },
  {
   "cell_type": "code",
   "execution_count": 23,
   "metadata": {},
   "outputs": [],
   "source": [
    "t = sorted(tri_count.items(), key=lambda k:k[1], reverse=True)\n",
    "b = sorted(bi_count.items(), key=lambda k:k[1], reverse=True)"
   ]
  },
  {
   "cell_type": "code",
   "execution_count": 33,
   "metadata": {},
   "outputs": [
    {
     "data": {
      "text/plain": [
       "\"('-- Note added', 827)\""
      ]
     },
     "execution_count": 33,
     "metadata": {},
     "output_type": "execute_result"
    }
   ],
   "source": [
    "str(t[0])"
   ]
  },
  {
   "cell_type": "code",
   "execution_count": 41,
   "metadata": {},
   "outputs": [],
   "source": [
    "with open(\"../data/tri_grams_note.txt\", \"w\") as f:\n",
    "    for i in t[:21]:\n",
    "        f.write(str(i) + \"\\n\")"
   ]
  },
  {
   "cell_type": "code",
   "execution_count": 40,
   "metadata": {},
   "outputs": [],
   "source": [
    "with open(\"../data/bi_grams_note.txt\", \"w\") as f:\n",
    "    for i in b[:21]:\n",
    "        f.write(str(i)+ \"\\n\")"
   ]
  },
  {
   "cell_type": "code",
   "execution_count": null,
   "metadata": {},
   "outputs": [],
   "source": []
  }
 ],
 "metadata": {
  "kernelspec": {
   "display_name": "Python 3.10.0 64-bit ('train')",
   "language": "python",
   "name": "python3"
  },
  "language_info": {
   "codemirror_mode": {
    "name": "ipython",
    "version": 3
   },
   "file_extension": ".py",
   "mimetype": "text/x-python",
   "name": "python",
   "nbconvert_exporter": "python",
   "pygments_lexer": "ipython3",
   "version": "3.10.0"
  },
  "orig_nbformat": 4,
  "vscode": {
   "interpreter": {
    "hash": "30da9040ef271df631c9a4e1203c0c62a19c4554816c6e819fd5873a7f332dc8"
   }
  }
 },
 "nbformat": 4,
 "nbformat_minor": 2
}
